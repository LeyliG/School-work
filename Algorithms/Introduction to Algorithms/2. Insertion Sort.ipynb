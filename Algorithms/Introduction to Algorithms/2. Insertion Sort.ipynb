{
 "cells": [
  {
   "cell_type": "code",
   "execution_count": 2,
   "metadata": {},
   "outputs": [],
   "source": [
    "import numpy as np"
   ]
  },
  {
   "cell_type": "code",
   "execution_count": 4,
   "metadata": {},
   "outputs": [],
   "source": [
    "def LeyliInsert(minimum, maximum, size):\n",
    "    #A = np.random.randint(minimum, maximum, size)\n",
    "    A = [5, 4, 3, 2, 1]\n",
    "    print(A)\n",
    "    \n",
    "    for a in range(1, len(A)):\n",
    "        key = A[a]\n",
    "        b = a\n",
    "            \n",
    "        while (b > 0) & (key < A[b - 1]):\n",
    "            A[b] = A[b - 1]\n",
    "            b = b - 1\n",
    "            \n",
    "            # print(A[b], A[b-1], key, b, A)\n",
    "        A[b] = key\n",
    "            #A[b - 1] = key\n",
    "            #key = A[b]  \n",
    "            \n",
    "        #print(A)\n",
    "    return(A)"
   ]
  },
  {
   "cell_type": "code",
   "execution_count": 5,
   "metadata": {},
   "outputs": [
    {
     "name": "stdout",
     "output_type": "stream",
     "text": [
      "[5, 4, 3, 2, 1]\n",
      "5 1 4 0 [5, 5, 3, 2, 1]\n",
      "5 4 3 1 [4, 5, 5, 2, 1]\n",
      "4 1 3 0 [4, 4, 5, 2, 1]\n",
      "5 4 2 2 [3, 4, 5, 5, 1]\n",
      "4 3 2 1 [3, 4, 4, 5, 1]\n",
      "3 1 2 0 [3, 3, 4, 5, 1]\n",
      "5 4 1 3 [2, 3, 4, 5, 5]\n",
      "4 3 1 2 [2, 3, 4, 4, 5]\n",
      "3 2 1 1 [2, 3, 3, 4, 5]\n",
      "2 5 1 0 [2, 2, 3, 4, 5]\n"
     ]
    },
    {
     "data": {
      "text/plain": [
       "[1, 2, 3, 4, 5]"
      ]
     },
     "execution_count": 5,
     "metadata": {},
     "output_type": "execute_result"
    }
   ],
   "source": [
    "LeyliInsert(0, 5, 5)"
   ]
  },
  {
   "cell_type": "code",
   "execution_count": null,
   "metadata": {},
   "outputs": [],
   "source": []
  },
  {
   "cell_type": "code",
   "execution_count": null,
   "metadata": {},
   "outputs": [],
   "source": []
  }
 ],
 "metadata": {
  "kernelspec": {
   "display_name": "Python 3",
   "language": "python",
   "name": "python3"
  },
  "language_info": {
   "codemirror_mode": {
    "name": "ipython",
    "version": 3
   },
   "file_extension": ".py",
   "mimetype": "text/x-python",
   "name": "python",
   "nbconvert_exporter": "python",
   "pygments_lexer": "ipython3",
   "version": "3.7.2"
  }
 },
 "nbformat": 4,
 "nbformat_minor": 2
}
