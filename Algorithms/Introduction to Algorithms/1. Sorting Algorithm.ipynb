{
 "cells": [
  {
   "cell_type": "code",
   "execution_count": 42,
   "metadata": {},
   "outputs": [],
   "source": [
    "import numpy as np"
   ]
  },
  {
   "cell_type": "code",
   "execution_count": 43,
   "metadata": {},
   "outputs": [],
   "source": [
    "def LeyliSort(minimum, maximum, size):\n",
    "    A = np.random.randint(minimum, maximum, size)\n",
    "    count = 0\n",
    "    for count in range(len(A)):\n",
    "        temp = 0\n",
    "        minimum = A[count]\n",
    "        index = count \n",
    "\n",
    "        for i in range(count, len(A) - 1):       \n",
    "            if minimum > A[i + 1]:\n",
    "                minimum = A[i + 1]\n",
    "                index = i + 1 \n",
    "\n",
    "            # print(minimum, index)\n",
    "\n",
    "        temp = A[count]\n",
    "        A[count] = A[index]\n",
    "        A[index] = temp\n",
    "\n",
    "    return(A)"
   ]
  },
  {
   "cell_type": "code",
   "execution_count": 45,
   "metadata": {},
   "outputs": [
    {
     "data": {
      "text/plain": [
       "array([ 3,  6,  8,  8, 10, 10, 11, 12, 13, 15, 16, 17, 18, 19, 20, 20, 21,\n",
       "       22, 23, 24, 24, 25, 29, 29, 30, 31, 33, 37, 39, 40, 41, 41, 46, 47,\n",
       "       47, 48, 51, 55, 57, 58, 58, 59, 59, 62, 63, 75, 82, 84, 88, 91])"
      ]
     },
     "execution_count": 45,
     "metadata": {},
     "output_type": "execute_result"
    }
   ],
   "source": [
    "LeyliSort(3, 100, 50)"
   ]
  },
  {
   "cell_type": "code",
   "execution_count": null,
   "metadata": {},
   "outputs": [],
   "source": []
  }
 ],
 "metadata": {
  "kernelspec": {
   "display_name": "Python 3",
   "language": "python",
   "name": "python3"
  },
  "language_info": {
   "codemirror_mode": {
    "name": "ipython",
    "version": 3
   },
   "file_extension": ".py",
   "mimetype": "text/x-python",
   "name": "python",
   "nbconvert_exporter": "python",
   "pygments_lexer": "ipython3",
   "version": "3.7.2"
  }
 },
 "nbformat": 4,
 "nbformat_minor": 2
}
